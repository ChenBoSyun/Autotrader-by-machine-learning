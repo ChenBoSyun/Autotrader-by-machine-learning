{
 "cells": [
  {
   "cell_type": "markdown",
   "metadata": {},
   "source": [
    "# 自動購買股票\n",
    "--------------------------------------------------\n",
    "## 介紹\n",
    "--------------------------------------------------\n",
    "我的策略是當手頭上沒有持有股票，就直接購買。\n",
    "<br>\n",
    "當該日的收盤價比購買時價格高五塊時，就出售。\n",
    "<br>\n",
    "我嘗試過MLP以及polynomial regression，效果都沒有直接訂購買策略來得好"
   ]
  }
 ],
 "metadata": {
  "kernelspec": {
   "display_name": "Python 3",
   "language": "python",
   "name": "python3"
  },
  "language_info": {
   "codemirror_mode": {
    "name": "ipython",
    "version": 3
   },
   "file_extension": ".py",
   "mimetype": "text/x-python",
   "name": "python",
   "nbconvert_exporter": "python",
   "pygments_lexer": "ipython3",
   "version": "3.5.4"
  }
 },
 "nbformat": 4,
 "nbformat_minor": 2
}
